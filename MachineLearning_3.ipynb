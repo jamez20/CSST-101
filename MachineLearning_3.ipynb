{
  "nbformat": 4,
  "nbformat_minor": 0,
  "metadata": {
    "colab": {
      "provenance": [],
      "authorship_tag": "ABX9TyNiPfigA4tgZ4AtsC2v4R0l",
      "include_colab_link": true
    },
    "kernelspec": {
      "name": "python3",
      "display_name": "Python 3"
    },
    "language_info": {
      "name": "python"
    }
  },
  "cells": [
    {
      "cell_type": "markdown",
      "metadata": {
        "id": "view-in-github",
        "colab_type": "text"
      },
      "source": [
        "<a href=\"https://colab.research.google.com/github/jamez20/CSST-101/blob/main/MachineLearning_3.ipynb\" target=\"_parent\"><img src=\"https://colab.research.google.com/assets/colab-badge.svg\" alt=\"Open In Colab\"/></a>"
      ]
    },
    {
      "cell_type": "code",
      "execution_count": 2,
      "metadata": {
        "colab": {
          "base_uri": "https://localhost:8080/",
          "height": 408
        },
        "id": "6fyhUkXNZhDJ",
        "outputId": "1ee606ea-0f61-4f0b-97e5-ce1ae63d850a"
      },
      "outputs": [
        {
          "output_type": "stream",
          "name": "stdout",
          "text": [
            "\n",
            "Health advisor expert system\n",
            "[Fever, cough, headache, stomach pain, sore throat]\n"
          ]
        },
        {
          "output_type": "error",
          "ename": "KeyboardInterrupt",
          "evalue": "Interrupted by user",
          "traceback": [
            "\u001b[0;31m---------------------------------------------------------------------------\u001b[0m",
            "\u001b[0;31mKeyboardInterrupt\u001b[0m                         Traceback (most recent call last)",
            "\u001b[0;32m/tmp/ipython-input-3274830430.py\u001b[0m in \u001b[0;36m<cell line: 0>\u001b[0;34m()\u001b[0m\n\u001b[1;32m      2\u001b[0m \u001b[0mprint\u001b[0m \u001b[0;34m(\u001b[0m\u001b[0;34m\"[Fever, cough, headache, stomach pain, sore throat]\"\u001b[0m\u001b[0;34m)\u001b[0m\u001b[0;34m\u001b[0m\u001b[0;34m\u001b[0m\u001b[0m\n\u001b[1;32m      3\u001b[0m \u001b[0;34m\u001b[0m\u001b[0m\n\u001b[0;32m----> 4\u001b[0;31m \u001b[0msympton\u001b[0m \u001b[0;34m=\u001b[0m \u001b[0minput\u001b[0m\u001b[0;34m(\u001b[0m\u001b[0;34m\"enter your main sympton\"\u001b[0m\u001b[0;34m)\u001b[0m\u001b[0;34m\u001b[0m\u001b[0;34m\u001b[0m\u001b[0m\n\u001b[0m\u001b[1;32m      5\u001b[0m \u001b[0;34m\u001b[0m\u001b[0m\n\u001b[1;32m      6\u001b[0m \u001b[0;32mif\u001b[0m \u001b[0msympton\u001b[0m \u001b[0;34m==\u001b[0m \u001b[0;34m\"fever\"\u001b[0m\u001b[0;34m:\u001b[0m\u001b[0;34m\u001b[0m\u001b[0;34m\u001b[0m\u001b[0m\n",
            "\u001b[0;32m/usr/local/lib/python3.12/dist-packages/ipykernel/kernelbase.py\u001b[0m in \u001b[0;36mraw_input\u001b[0;34m(self, prompt)\u001b[0m\n\u001b[1;32m   1175\u001b[0m                 \u001b[0;34m\"raw_input was called, but this frontend does not support input requests.\"\u001b[0m\u001b[0;34m\u001b[0m\u001b[0;34m\u001b[0m\u001b[0m\n\u001b[1;32m   1176\u001b[0m             )\n\u001b[0;32m-> 1177\u001b[0;31m         return self._input_request(\n\u001b[0m\u001b[1;32m   1178\u001b[0m             \u001b[0mstr\u001b[0m\u001b[0;34m(\u001b[0m\u001b[0mprompt\u001b[0m\u001b[0;34m)\u001b[0m\u001b[0;34m,\u001b[0m\u001b[0;34m\u001b[0m\u001b[0;34m\u001b[0m\u001b[0m\n\u001b[1;32m   1179\u001b[0m             \u001b[0mself\u001b[0m\u001b[0;34m.\u001b[0m\u001b[0m_parent_ident\u001b[0m\u001b[0;34m[\u001b[0m\u001b[0;34m\"shell\"\u001b[0m\u001b[0;34m]\u001b[0m\u001b[0;34m,\u001b[0m\u001b[0;34m\u001b[0m\u001b[0;34m\u001b[0m\u001b[0m\n",
            "\u001b[0;32m/usr/local/lib/python3.12/dist-packages/ipykernel/kernelbase.py\u001b[0m in \u001b[0;36m_input_request\u001b[0;34m(self, prompt, ident, parent, password)\u001b[0m\n\u001b[1;32m   1217\u001b[0m             \u001b[0;32mexcept\u001b[0m \u001b[0mKeyboardInterrupt\u001b[0m\u001b[0;34m:\u001b[0m\u001b[0;34m\u001b[0m\u001b[0;34m\u001b[0m\u001b[0m\n\u001b[1;32m   1218\u001b[0m                 \u001b[0;31m# re-raise KeyboardInterrupt, to truncate traceback\u001b[0m\u001b[0;34m\u001b[0m\u001b[0;34m\u001b[0m\u001b[0m\n\u001b[0;32m-> 1219\u001b[0;31m                 \u001b[0;32mraise\u001b[0m \u001b[0mKeyboardInterrupt\u001b[0m\u001b[0;34m(\u001b[0m\u001b[0;34m\"Interrupted by user\"\u001b[0m\u001b[0;34m)\u001b[0m \u001b[0;32mfrom\u001b[0m \u001b[0;32mNone\u001b[0m\u001b[0;34m\u001b[0m\u001b[0;34m\u001b[0m\u001b[0m\n\u001b[0m\u001b[1;32m   1220\u001b[0m             \u001b[0;32mexcept\u001b[0m \u001b[0mException\u001b[0m\u001b[0;34m:\u001b[0m\u001b[0;34m\u001b[0m\u001b[0;34m\u001b[0m\u001b[0m\n\u001b[1;32m   1221\u001b[0m                 \u001b[0mself\u001b[0m\u001b[0;34m.\u001b[0m\u001b[0mlog\u001b[0m\u001b[0;34m.\u001b[0m\u001b[0mwarning\u001b[0m\u001b[0;34m(\u001b[0m\u001b[0;34m\"Invalid Message:\"\u001b[0m\u001b[0;34m,\u001b[0m \u001b[0mexc_info\u001b[0m\u001b[0;34m=\u001b[0m\u001b[0;32mTrue\u001b[0m\u001b[0;34m)\u001b[0m\u001b[0;34m\u001b[0m\u001b[0;34m\u001b[0m\u001b[0m\n",
            "\u001b[0;31mKeyboardInterrupt\u001b[0m: Interrupted by user"
          ]
        }
      ],
      "source": [
        "print (\"\\nHealth advisor expert system\")\n",
        "print (\"[Fever, cough, headache, stomach pain, sore throat]\")\n",
        "\n",
        "sympton = input(\"enter your main sympton\")\n",
        "\n",
        "if sympton == \"fever\":\n",
        "    print (\"\\nPossible illnesses:\")\n",
        "    print (\"- flu\")\n",
        "    print (\"- dengue Fever\")\n",
        "    print (\"- COVID-19\")\n",
        "    print (\"- infection\")\n",
        "    print (\"advice: Get Rest, drink plenty of water, and a consult of a doctor if fever lasts more that 2 days.\")\n",
        "\n",
        "elif sympton == \"cough\":\n",
        "    print (\"\\nPossible illnesses:\")\n",
        "    print (\"- common cold\")\n",
        "    print (\"- bronchitis\")\n",
        "    print (\"- asthma\")\n",
        "    print (\"- COVID-19\")\n",
        "    print (\"advice: stay hydrated avoid cold drinks, and see a doctor if cough persists.\")\n",
        "\n",
        "elif sympton == \"headache\":\n",
        "    print (\"\\nPossible illnesses:\")\n",
        "    print (\"- migraine\")\n",
        "    print (\"- Dehydration\")\n",
        "    print (\"- eye strain\")\n",
        "    print (\"- stress or tension headache\")\n",
        "    print (\"advice: Rest in quiet room and drink water. seek medical help for severe or frequent headaches.\")\n",
        "\n",
        "elif sympton == \"stomach pain\":\n",
        "    print (\"\\nPossible illnesses:\")\n",
        "    print (\"- indigestion\")\n",
        "    print (\"- gastritis\")\n",
        "    print (\"- food poisoning\")\n",
        "    print (\"- ulcer\")\n",
        "    print (\"advice: avoid spicy foods and drink warm water. visit a doctor if  pain is severe.\")\n",
        "\n",
        "elif sympton == \"sore throat\":\n",
        "    print (\"\\nPossible illnesses:\")\n",
        "    print (\"- tonsillitis\")\n",
        "    print (\"- common cold\")\n",
        "    print (\"- flu\")\n",
        "    print (\"- throat infection\")\n",
        "    print (\"advice: drink warm liquids and rest your voice. consult a doctor if pain worsens.\")\n",
        "\n",
        "else:\n",
        "  print (\"\\nSorry, sympton not recognized.\")\n",
        "  print (\"Please try again with another common sympton.\")\n",
        "\n",
        "\n",
        "\n"
      ]
    }
  ]
}